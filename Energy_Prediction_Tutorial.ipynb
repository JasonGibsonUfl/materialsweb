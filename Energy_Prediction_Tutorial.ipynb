{
 "cells": [
  {
   "cell_type": "code",
   "execution_count": 1,
   "metadata": {},
   "outputs": [],
   "source": [
    "%matplotlib inline\n",
    "import os\n",
    "import multiprocessing\n",
    "\n",
    "import scipy\n",
    "import numpy as np\n",
    "import pandas as pd\n",
    "\n",
    "from sklearn.preprocessing import StandardScaler\n",
    "from sklearn.model_selection import RandomizedSearchCV as CV\n",
    "\n",
    "from pymatgen.io.vasp import Poscar\n",
    "from pymatgen.io.ase import AseAtomsAdaptor\n",
    "\n",
    "from ase.visualize import view\n",
    "from sklearn.svm import SVR"
   ]
  },
  {
   "cell_type": "markdown",
   "metadata": {},
   "source": [
    "Requirements:\n",
    "numpy, scipy, pandas, pymatgen, sklearn, ase\n",
    "\n",
    "\n",
    "Optional: tqdm for progress bars, thundersvm for GPU support"
   ]
  },
  {
   "cell_type": "code",
   "execution_count": 2,
   "metadata": {},
   "outputs": [],
   "source": [
    "#from thundersvm import SVR # much faster with GPU support\n",
    "\n",
    "def tw(iterable, **kwargs):\n",
    "    \"Add a progress bar using tqdm if available\"\n",
    "    try:\n",
    "        import tqdm\n",
    "        tqdm.tqdm._instances.clear()\n",
    "        # clear existing instances\n",
    "    except AttributeError:\n",
    "        pass\n",
    "    try:\n",
    "        return tqdm.tqdm_notebook(iterable, **kwargs)\n",
    "    except NameError:\n",
    "        return iterable  # could not import tqdm"
   ]
  },
  {
   "cell_type": "markdown",
   "metadata": {},
   "source": [
    "# Set up (basic settings here)"
   ]
  },
  {
   "cell_type": "markdown",
   "metadata": {},
   "source": [
    "CdTe dataset is available at /ufrc/hennig/sxiexie/CdTe_Archive\n",
    "\n",
    "\n",
    "Big picture:\n",
    "1) Parse structure and energy files\n",
    "\n",
    "2) Generate representations\n",
    "\n",
    "3) Optimize and fit models with support vector regression"
   ]
  },
  {
   "cell_type": "code",
   "execution_count": 3,
   "metadata": {},
   "outputs": [],
   "source": [
    "n_cores = 1  # number of cores to use for multiprocessing."
   ]
  },
  {
   "cell_type": "code",
   "execution_count": 4,
   "metadata": {},
   "outputs": [],
   "source": [
    "### uncomment the following line to use all available cores\n",
    "n_cores = multiprocessing.cpu_count()"
   ]
  },
  {
   "cell_type": "code",
   "execution_count": 5,
   "metadata": {},
   "outputs": [],
   "source": [
    "# directory of POSCARs and energy files\n",
    "working_directory = '/home/jason/Downloads'\n",
    "directory_path = working_directory + \"/CdTe_Archive/\"\n",
    "\n",
    "structure_ext = 'poscar'  #file extension names\n",
    "target_ext = 'energy'\n",
    "\n",
    "element_list = ['Cd', 'Te']  # list of elements to consider"
   ]
  },
  {
   "cell_type": "markdown",
   "metadata": {},
   "source": [
    "# File Parsing"
   ]
  },
  {
   "cell_type": "code",
   "execution_count": 6,
   "metadata": {},
   "outputs": [
    {
     "data": {
      "application/vnd.jupyter.widget-view+json": {
       "model_id": "b004ae41a61e4066856c1bd0c8c004cb",
       "version_major": 2,
       "version_minor": 0
      },
      "text/plain": [
       "HBox(children=(IntProgress(value=0, max=4673), HTML(value='')))"
      ]
     },
     "metadata": {},
     "output_type": "display_data"
    },
    {
     "name": "stdout",
     "output_type": "stream",
     "text": [
      "\n"
     ]
    }
   ],
   "source": [
    "def process_entry(args):\n",
    "    \"\"\"parse files\"\"\"\n",
    "    entry_name, element_list, directory_path, structure_ext, target_ext = args\n",
    "    target_file = '{}/{}.{}'.format(directory_path,\n",
    "                                    entry_name,\n",
    "                                    target_ext)\n",
    "    with open(target_file) as f:\n",
    "        lines = f.read().splitlines()\n",
    "    local_energies = [float(line) for line in lines]\n",
    "    # This dataset has per-atom energies but we won't use them\n",
    "    energy = np.sum(local_energies)\n",
    "    \n",
    "    structure_file = '{}/{}.{}'.format(directory_path,\n",
    "                                       entry_name,\n",
    "                                       structure_ext)\n",
    "    structure = Poscar.from_file(structure_file).structure\n",
    "    entry_data = [len(structure), energy]\n",
    "    for element in element_list:\n",
    "        element_percent = structure.composition.get_atomic_fraction(element)\n",
    "        entry_data.append(element_percent)\n",
    "    return structure, entry_data\n",
    "\n",
    "file_stems = [os.path.splitext(f)[0]\n",
    "              for f in os.listdir(directory_path) \n",
    "              if structure_ext in f]\n",
    "# check the working directory for files matching the ext\n",
    "\n",
    "columns = ['Size', 'Total Energy'] + element_list  # pandas header\n",
    "\n",
    "# prepare zipped arguments for parallel parsing\n",
    "zipped_args = [(f, element_list, directory_path, structure_ext, target_ext)\n",
    "               for f in file_stems]\n",
    "parsed_data = list(tw(multiprocessing.Pool(n_cores).imap(process_entry,\n",
    "                                                         zipped_args),\n",
    "                      total=len(zipped_args)))"
   ]
  },
  {
   "cell_type": "code",
   "execution_count": 7,
   "metadata": {},
   "outputs": [],
   "source": [
    "# unpack parallel parsing results\n",
    "structure_list, table_data = zip(*parsed_data)\n",
    "structures = {k: v for k, v in zip(file_stems, structure_list)}\n",
    "df = pd.DataFrame(columns=columns, data=table_data, index=file_stems)"
   ]
  },
  {
   "cell_type": "code",
   "execution_count": null,
   "metadata": {},
   "outputs": [],
   "source": []
  },
  {
   "cell_type": "markdown",
   "metadata": {},
   "source": [
    "# Get Reference Energies"
   ]
  },
  {
   "cell_type": "markdown",
   "metadata": {},
   "source": [
    "While learning on total energies is desirable in some scenarios, we often want to predict formation energy per atom to compare relative stabilities. Here, we normalize the total energy of each structure by the reference energies. These are the lowest-energy elemental structures in the dataset."
   ]
  },
  {
   "cell_type": "code",
   "execution_count": 8,
   "metadata": {},
   "outputs": [],
   "source": [
    "reference_energies = {}\n",
    "for element in element_list:\n",
    "    pure_entries = df[df[element] == 1.0]\n",
    "    pure_entry_energies = pure_entries['Total Energy'].values\n",
    "    pure_entry_energies /= pure_entries['Size'].values\n",
    "    minimum_energy = np.min(pure_entry_energies)\n",
    "    reference_energies[element] = minimum_energy"
   ]
  },
  {
   "cell_type": "code",
   "execution_count": 9,
   "metadata": {},
   "outputs": [
    {
     "data": {
      "text/plain": [
       "{'Cd': -1.16003, 'Te': -2.23009}"
      ]
     },
     "execution_count": 9,
     "metadata": {},
     "output_type": "execute_result"
    }
   ],
   "source": [
    "reference_energies"
   ]
  },
  {
   "cell_type": "markdown",
   "metadata": {},
   "source": [
    "# Compute Formation Energies"
   ]
  },
  {
   "cell_type": "code",
   "execution_count": 10,
   "metadata": {},
   "outputs": [],
   "source": [
    "def get_formation_energy(entry_data, element_list, reference_energies):\n",
    "    element_fractions = {element: entry_data[element] \n",
    "                         for element in element_list}\n",
    "    reference_contributions = [(reference_energies[element] \n",
    "                               * element_fractions[element])\n",
    "                               for element in element_list]\n",
    "    formation_energy = (entry_data['Total Energy']/entry_data['Size'] \n",
    "                        - np.sum(reference_contributions))\n",
    "    return formation_energy"
   ]
  },
  {
   "cell_type": "code",
   "execution_count": 11,
   "metadata": {},
   "outputs": [],
   "source": [
    "df['Formation Energy'] = df.apply(get_formation_energy, axis=1, \n",
    "                                  args=(element_list, reference_energies))"
   ]
  },
  {
   "cell_type": "code",
   "execution_count": null,
   "metadata": {},
   "outputs": [],
   "source": []
  },
  {
   "cell_type": "markdown",
   "metadata": {},
   "source": [
    "# Set up DSCRIBE's SOAP Handler"
   ]
  },
  {
   "cell_type": "markdown",
   "metadata": {},
   "source": [
    "The Smooth Overlap of Atomic Positions representation is a well-established method for capturing atomic environments for machine learning. It has few hyperparameters, and the default choices here are reasonable for many systems."
   ]
  },
  {
   "cell_type": "code",
   "execution_count": 17,
   "metadata": {},
   "outputs": [],
   "source": [
    "from dscribe.descriptors import SOAP\n",
    "rcut = 7  # maximum pairwise distance to consider. \n",
    "# Stick to the second or third nearest-neighbor distance.\n",
    "\n",
    "# maximum degree and orders to calculation in spherical harmonics power-series solution\n",
    "nmax = 6\n",
    "lmax = 8\n",
    "\n",
    "# Setting up the SOAP descriptor\n",
    "soap = SOAP(species=element_list,\n",
    "            periodic=True,\n",
    "            rcut=rcut,\n",
    "            nmax=nmax,\n",
    "            lmax=lmax,\n",
    "            rbf='gto',\n",
    "            sigma=0.125,\n",
    "            average=True)"
   ]
  },
  {
   "cell_type": "code",
   "execution_count": 18,
   "metadata": {},
   "outputs": [],
   "source": [
    "adaptor = AseAtomsAdaptor()\n",
    "entry_names = sorted(structures.keys())\n",
    "flattened_entry_list = [adaptor.get_atoms(structures[entry_name])\n",
    "                        for entry_name in entry_names]\n",
    "soap_raw = soap.create(flattened_entry_list, n_jobs=n_cores)"
   ]
  },
  {
   "cell_type": "code",
   "execution_count": 19,
   "metadata": {},
   "outputs": [],
   "source": [
    "data = pd.DataFrame(data=soap_raw, index=entry_names,\n",
    "                    columns=['SOAP_{}'.format(i) for i in range(len(soap_raw[0]))])"
   ]
  },
  {
   "cell_type": "markdown",
   "metadata": {},
   "source": [
    "Each entry has its own 567-dimensional vector representing the chemical environment."
   ]
  },
  {
   "cell_type": "code",
   "execution_count": 20,
   "metadata": {},
   "outputs": [
    {
     "data": {
      "text/plain": [
       "(4673, 567)"
      ]
     },
     "execution_count": 20,
     "metadata": {},
     "output_type": "execute_result"
    }
   ],
   "source": [
    "data.shape"
   ]
  },
  {
   "cell_type": "markdown",
   "metadata": {},
   "source": [
    "# Visualizing SOAP"
   ]
  },
  {
   "cell_type": "code",
   "execution_count": 21,
   "metadata": {},
   "outputs": [
    {
     "data": {
      "image/png": "[encoded data removed]",
      "text/plain": [
       "<Figure size 432x288 with 1 Axes>"
      ]
     },
     "metadata": {
      "needs_background": "light"
     },
     "output_type": "display_data"
    }
   ],
   "source": [
    "import matplotlib.pyplot as plt\n",
    "for i in range(50):\n",
    "    plt.plot(np.arange(len(soap_raw[0])), data.iloc[i])\n",
    "plt.xlabel('Representation Index')\n",
    "plt.ylabel('Value (arbitrary units)')\n",
    "plt.show()"
   ]
  },
  {
   "cell_type": "markdown",
   "metadata": {},
   "source": [
    "# Data Splitting"
   ]
  },
  {
   "cell_type": "code",
   "execution_count": 22,
   "metadata": {},
   "outputs": [],
   "source": [
    "shuffled_names = list(entry_names)\n",
    "np.random.shuffle(shuffled_names)"
   ]
  },
  {
   "cell_type": "code",
   "execution_count": 23,
   "metadata": {},
   "outputs": [],
   "source": [
    "training_fraction = 0.8\n",
    "n_train = int(len(df) * training_fraction)\n",
    "\n",
    "training_names = shuffled_names[:n_train]\n",
    "testing_names = shuffled_names[n_train:]"
   ]
  },
  {
   "cell_type": "code",
   "execution_count": 24,
   "metadata": {},
   "outputs": [
    {
     "name": "stdout",
     "output_type": "stream",
     "text": [
      "(3738, 567)\n",
      "(3738,)\n"
     ]
    }
   ],
   "source": [
    "training_inputs = data.loc[training_names].values\n",
    "print(training_inputs.shape)\n",
    "training_outputs = df.loc[training_names]['Formation Energy']\n",
    "print(training_outputs.shape)"
   ]
  },
  {
   "cell_type": "code",
   "execution_count": 25,
   "metadata": {},
   "outputs": [
    {
     "name": "stdout",
     "output_type": "stream",
     "text": [
      "(935, 567)\n",
      "(935,)\n"
     ]
    }
   ],
   "source": [
    "testing_inputs = data.loc[testing_names].values\n",
    "print(testing_inputs.shape)\n",
    "testing_outputs = df.loc[testing_names]['Formation Energy']\n",
    "print(testing_outputs.shape)"
   ]
  },
  {
   "cell_type": "code",
   "execution_count": 26,
   "metadata": {},
   "outputs": [
    {
     "ename": "ModuleNotFoundError",
     "evalue": "No module named 'rest_framework'",
     "output_type": "error",
     "traceback": [
      "\u001b[0;31m---------------------------------------------------------------------------\u001b[0m",
      "\u001b[0;31mModuleNotFoundError\u001b[0m                       Traceback (most recent call last)",
      "\u001b[0;32m<ipython-input-26-50fbbd75fc36>\u001b[0m in \u001b[0;36m<module>\u001b[0;34m\u001b[0m\n\u001b[0;32m----> 1\u001b[0;31m \u001b[0;32mfrom\u001b[0m \u001b[0mapi\u001b[0m\u001b[0;34m.\u001b[0m\u001b[0mrest\u001b[0m \u001b[0;32mimport\u001b[0m \u001b[0mQueryEngine\u001b[0m \u001b[0;32mas\u001b[0m \u001b[0mq\u001b[0m\u001b[0;34m\u001b[0m\u001b[0;34m\u001b[0m\u001b[0m\n\u001b[0m\u001b[1;32m      2\u001b[0m \u001b[0;34m\u001b[0m\u001b[0m\n\u001b[1;32m      3\u001b[0m \u001b[0mmodel\u001b[0m\u001b[0;34m=\u001b[0m\u001b[0mq\u001b[0m\u001b[0;34m.\u001b[0m\u001b[0mget_KRR\u001b[0m\u001b[0;34m(\u001b[0m\u001b[0;34m'CdTe'\u001b[0m\u001b[0;34m)\u001b[0m\u001b[0;34m\u001b[0m\u001b[0;34m\u001b[0m\u001b[0m\n",
      "\u001b[0;32m~/dev/materialsweb/api/rest.py\u001b[0m in \u001b[0;36m<module>\u001b[0;34m\u001b[0m\n\u001b[1;32m      3\u001b[0m \u001b[0mos\u001b[0m\u001b[0;34m.\u001b[0m\u001b[0menviron\u001b[0m\u001b[0;34m.\u001b[0m\u001b[0msetdefault\u001b[0m\u001b[0;34m(\u001b[0m\u001b[0;34m\"DJANGO_SETTINGS_MODULE\"\u001b[0m\u001b[0;34m,\u001b[0m \u001b[0;34m\"materialsweb2.settings\"\u001b[0m\u001b[0;34m)\u001b[0m\u001b[0;34m\u001b[0m\u001b[0;34m\u001b[0m\u001b[0m\n\u001b[1;32m      4\u001b[0m \u001b[0;34m\u001b[0m\u001b[0m\n\u001b[0;32m----> 5\u001b[0;31m \u001b[0mdjango\u001b[0m\u001b[0;34m.\u001b[0m\u001b[0msetup\u001b[0m\u001b[0;34m(\u001b[0m\u001b[0;34m)\u001b[0m\u001b[0;34m\u001b[0m\u001b[0;34m\u001b[0m\u001b[0m\n\u001b[0m\u001b[1;32m      6\u001b[0m \u001b[0;32mimport\u001b[0m \u001b[0mpymysql\u001b[0m \u001b[0;32mas\u001b[0m \u001b[0mdba\u001b[0m\u001b[0;34m\u001b[0m\u001b[0;34m\u001b[0m\u001b[0m\n\u001b[1;32m      7\u001b[0m \u001b[0;32mfrom\u001b[0m \u001b[0msimulation\u001b[0m\u001b[0;34m.\u001b[0m\u001b[0mmaterials\u001b[0m\u001b[0;34m.\u001b[0m\u001b[0mentry\u001b[0m \u001b[0;32mimport\u001b[0m \u001b[0mEntry\u001b[0m\u001b[0;34m\u001b[0m\u001b[0;34m\u001b[0m\u001b[0m\n",
      "\u001b[0;32m~/anaconda3/lib/python3.7/site-packages/django/__init__.py\u001b[0m in \u001b[0;36msetup\u001b[0;34m(set_prefix)\u001b[0m\n\u001b[1;32m     22\u001b[0m             \u001b[0;34m'/'\u001b[0m \u001b[0;32mif\u001b[0m \u001b[0msettings\u001b[0m\u001b[0;34m.\u001b[0m\u001b[0mFORCE_SCRIPT_NAME\u001b[0m \u001b[0;32mis\u001b[0m \u001b[0;32mNone\u001b[0m \u001b[0;32melse\u001b[0m \u001b[0msettings\u001b[0m\u001b[0;34m.\u001b[0m\u001b[0mFORCE_SCRIPT_NAME\u001b[0m\u001b[0;34m\u001b[0m\u001b[0;34m\u001b[0m\u001b[0m\n\u001b[1;32m     23\u001b[0m         )\n\u001b[0;32m---> 24\u001b[0;31m     \u001b[0mapps\u001b[0m\u001b[0;34m.\u001b[0m\u001b[0mpopulate\u001b[0m\u001b[0;34m(\u001b[0m\u001b[0msettings\u001b[0m\u001b[0;34m.\u001b[0m\u001b[0mINSTALLED_APPS\u001b[0m\u001b[0;34m)\u001b[0m\u001b[0;34m\u001b[0m\u001b[0;34m\u001b[0m\u001b[0m\n\u001b[0m",
      "\u001b[0;32m~/anaconda3/lib/python3.7/site-packages/django/apps/registry.py\u001b[0m in \u001b[0;36mpopulate\u001b[0;34m(self, installed_apps)\u001b[0m\n\u001b[1;32m     89\u001b[0m                     \u001b[0mapp_config\u001b[0m \u001b[0;34m=\u001b[0m \u001b[0mentry\u001b[0m\u001b[0;34m\u001b[0m\u001b[0;34m\u001b[0m\u001b[0m\n\u001b[1;32m     90\u001b[0m                 \u001b[0;32melse\u001b[0m\u001b[0;34m:\u001b[0m\u001b[0;34m\u001b[0m\u001b[0;34m\u001b[0m\u001b[0m\n\u001b[0;32m---> 91\u001b[0;31m                     \u001b[0mapp_config\u001b[0m \u001b[0;34m=\u001b[0m \u001b[0mAppConfig\u001b[0m\u001b[0;34m.\u001b[0m\u001b[0mcreate\u001b[0m\u001b[0;34m(\u001b[0m\u001b[0mentry\u001b[0m\u001b[0;34m)\u001b[0m\u001b[0;34m\u001b[0m\u001b[0;34m\u001b[0m\u001b[0m\n\u001b[0m\u001b[1;32m     92\u001b[0m                 \u001b[0;32mif\u001b[0m \u001b[0mapp_config\u001b[0m\u001b[0;34m.\u001b[0m\u001b[0mlabel\u001b[0m \u001b[0;32min\u001b[0m \u001b[0mself\u001b[0m\u001b[0;34m.\u001b[0m\u001b[0mapp_configs\u001b[0m\u001b[0;34m:\u001b[0m\u001b[0;34m\u001b[0m\u001b[0;34m\u001b[0m\u001b[0m\n\u001b[1;32m     93\u001b[0m                     raise ImproperlyConfigured(\n",
      "\u001b[0;32m~/anaconda3/lib/python3.7/site-packages/django/apps/config.py\u001b[0m in \u001b[0;36mcreate\u001b[0;34m(cls, entry)\u001b[0m\n\u001b[1;32m     88\u001b[0m             \u001b[0;31m# which may specify an app config class with default_app_config.\u001b[0m\u001b[0;34m\u001b[0m\u001b[0;34m\u001b[0m\u001b[0;34m\u001b[0m\u001b[0m\n\u001b[1;32m     89\u001b[0m             \u001b[0;31m# Otherwise, entry is a path to an app config class or an error.\u001b[0m\u001b[0;34m\u001b[0m\u001b[0;34m\u001b[0m\u001b[0;34m\u001b[0m\u001b[0m\n\u001b[0;32m---> 90\u001b[0;31m             \u001b[0mmodule\u001b[0m \u001b[0;34m=\u001b[0m \u001b[0mimport_module\u001b[0m\u001b[0;34m(\u001b[0m\u001b[0mentry\u001b[0m\u001b[0;34m)\u001b[0m\u001b[0;34m\u001b[0m\u001b[0;34m\u001b[0m\u001b[0m\n\u001b[0m\u001b[1;32m     91\u001b[0m \u001b[0;34m\u001b[0m\u001b[0m\n\u001b[1;32m     92\u001b[0m         \u001b[0;32mexcept\u001b[0m \u001b[0mImportError\u001b[0m\u001b[0;34m:\u001b[0m\u001b[0;34m\u001b[0m\u001b[0;34m\u001b[0m\u001b[0m\n",
      "\u001b[0;32m~/anaconda3/lib/python3.7/importlib/__init__.py\u001b[0m in \u001b[0;36mimport_module\u001b[0;34m(name, package)\u001b[0m\n\u001b[1;32m    125\u001b[0m                 \u001b[0;32mbreak\u001b[0m\u001b[0;34m\u001b[0m\u001b[0;34m\u001b[0m\u001b[0m\n\u001b[1;32m    126\u001b[0m             \u001b[0mlevel\u001b[0m \u001b[0;34m+=\u001b[0m \u001b[0;36m1\u001b[0m\u001b[0;34m\u001b[0m\u001b[0;34m\u001b[0m\u001b[0m\n\u001b[0;32m--> 127\u001b[0;31m     \u001b[0;32mreturn\u001b[0m \u001b[0m_bootstrap\u001b[0m\u001b[0;34m.\u001b[0m\u001b[0m_gcd_import\u001b[0m\u001b[0;34m(\u001b[0m\u001b[0mname\u001b[0m\u001b[0;34m[\u001b[0m\u001b[0mlevel\u001b[0m\u001b[0;34m:\u001b[0m\u001b[0;34m]\u001b[0m\u001b[0;34m,\u001b[0m \u001b[0mpackage\u001b[0m\u001b[0;34m,\u001b[0m \u001b[0mlevel\u001b[0m\u001b[0;34m)\u001b[0m\u001b[0;34m\u001b[0m\u001b[0;34m\u001b[0m\u001b[0m\n\u001b[0m\u001b[1;32m    128\u001b[0m \u001b[0;34m\u001b[0m\u001b[0m\n\u001b[1;32m    129\u001b[0m \u001b[0;34m\u001b[0m\u001b[0m\n",
      "\u001b[0;31mModuleNotFoundError\u001b[0m: No module named 'rest_framework'"
     ]
    }
   ],
   "source": [
    "from api.rest import QueryEngine as q\n",
    "\n",
    "model=q.get_KRR('CdTe')"
   ]
  },
  {
   "cell_type": "code",
   "execution_count": 27,
   "metadata": {},
   "outputs": [
    {
     "ename": "NameError",
     "evalue": "name 'model' is not defined",
     "output_type": "error",
     "traceback": [
      "\u001b[0;31m---------------------------------------------------------------------------\u001b[0m",
      "\u001b[0;31mNameError\u001b[0m                                 Traceback (most recent call last)",
      "\u001b[0;32m<ipython-input-27-24c5634f0dae>\u001b[0m in \u001b[0;36m<module>\u001b[0;34m\u001b[0m\n\u001b[0;32m----> 1\u001b[0;31m \u001b[0mtesting_predictions\u001b[0m \u001b[0;34m=\u001b[0m \u001b[0mmodel\u001b[0m\u001b[0;34m.\u001b[0m\u001b[0mpredict\u001b[0m\u001b[0;34m(\u001b[0m\u001b[0mtraining_inputs\u001b[0m\u001b[0;34m)\u001b[0m\u001b[0;34m\u001b[0m\u001b[0;34m\u001b[0m\u001b[0m\n\u001b[0m\u001b[1;32m      2\u001b[0m \u001b[0mplt\u001b[0m\u001b[0;34m.\u001b[0m\u001b[0mscatter\u001b[0m\u001b[0;34m(\u001b[0m\u001b[0mtesting_predictions\u001b[0m\u001b[0;34m,\u001b[0m \u001b[0mtraining_outputs\u001b[0m\u001b[0;34m,\u001b[0m \u001b[0malpha\u001b[0m\u001b[0;34m=\u001b[0m\u001b[0;36m0.2\u001b[0m\u001b[0;34m)\u001b[0m\u001b[0;34m\u001b[0m\u001b[0;34m\u001b[0m\u001b[0m\n\u001b[1;32m      3\u001b[0m \u001b[0mplt\u001b[0m\u001b[0;34m.\u001b[0m\u001b[0mplot\u001b[0m\u001b[0;34m(\u001b[0m\u001b[0;34m[\u001b[0m\u001b[0;34m-\u001b[0m\u001b[0;36m0.4\u001b[0m\u001b[0;34m,\u001b[0m \u001b[0;36m0.4\u001b[0m\u001b[0;34m]\u001b[0m\u001b[0;34m,\u001b[0m \u001b[0;34m[\u001b[0m\u001b[0;34m-\u001b[0m\u001b[0;36m0.4\u001b[0m\u001b[0;34m,\u001b[0m \u001b[0;36m0.4\u001b[0m\u001b[0;34m]\u001b[0m\u001b[0;34m,\u001b[0m \u001b[0;34m'k--'\u001b[0m\u001b[0;34m)\u001b[0m\u001b[0;34m\u001b[0m\u001b[0;34m\u001b[0m\u001b[0m\n\u001b[1;32m      4\u001b[0m \u001b[0mplt\u001b[0m\u001b[0;34m.\u001b[0m\u001b[0maxis\u001b[0m\u001b[0;34m(\u001b[0m\u001b[0;34m'equal'\u001b[0m\u001b[0;34m)\u001b[0m\u001b[0;34m\u001b[0m\u001b[0;34m\u001b[0m\u001b[0m\n\u001b[1;32m      5\u001b[0m \u001b[0mplt\u001b[0m\u001b[0;34m.\u001b[0m\u001b[0mshow\u001b[0m\u001b[0;34m(\u001b[0m\u001b[0;34m)\u001b[0m\u001b[0;34m\u001b[0m\u001b[0;34m\u001b[0m\u001b[0m\n",
      "\u001b[0;31mNameError\u001b[0m: name 'model' is not defined"
     ]
    }
   ],
   "source": [
    "testing_predictions = model.predict(training_inputs)\n",
    "plt.scatter(testing_predictions, training_outputs, alpha=0.2)\n",
    "plt.plot([-0.4, 0.4], [-0.4, 0.4], 'k--')\n",
    "plt.axis('equal')\n",
    "plt.show()"
   ]
  },
  {
   "cell_type": "code",
   "execution_count": null,
   "metadata": {},
   "outputs": [],
   "source": [
    "print(testing_predictions)"
   ]
  },
  {
   "cell_type": "markdown",
   "metadata": {},
   "source": [
    "# Let's do ML"
   ]
  },
  {
   "cell_type": "code",
   "execution_count": 28,
   "metadata": {},
   "outputs": [],
   "source": [
    "model = SVR().fit(training_inputs, training_outputs)"
   ]
  },
  {
   "cell_type": "code",
   "execution_count": 29,
   "metadata": {},
   "outputs": [],
   "source": [
    "testing_predictions = model.predict(testing_inputs)"
   ]
  },
  {
   "cell_type": "code",
   "execution_count": 30,
   "metadata": {},
   "outputs": [
    {
     "name": "stdout",
     "output_type": "stream",
     "text": [
      "0.041785843168197494\n"
     ]
    }
   ],
   "source": [
    "print(np.sqrt(np.mean(np.subtract(testing_predictions, testing_outputs)**2)))\n"
   ]
  },
  {
   "cell_type": "code",
   "execution_count": 32,
   "metadata": {},
   "outputs": [
    {
     "data": {
      "image/png": "[encoded data removed]",
      "text/plain": [
       "<Figure size 432x288 with 1 Axes>"
      ]
     },
     "metadata": {
      "needs_background": "light"
     },
     "output_type": "display_data"
    }
   ],
   "source": [
    "plt.scatter(testing_predictions, testing_outputs, alpha=0.2)\n",
    "plt.plot([-0.4, 0.4], [-0.4, 0.4], 'k--')\n",
    "plt.axis('equal')\n",
    "plt.show()\n",
    "import pickle\n",
    "pickle.dump(model,open('Cd-Te.sav','wb'))"
   ]
  },
  {
   "cell_type": "code",
   "execution_count": 33,
   "metadata": {},
   "outputs": [
    {
     "name": "stdout",
     "output_type": "stream",
     "text": [
      "0.poscar   21.poscar  automatminer_2020-07-31_10-38-16.log  __pycache__\r\n",
      "10.poscar  22.poscar  automatminer.log\t\t\t    README.md\r\n",
      "11.poscar  2.poscar   automl.ipynb\t\t\t    requirments.txt\r\n",
      "12.poscar  2test.p    Cd-Te.sav\t\t\t\t    scripts\r\n",
      "13.poscar  3.poscar   docs\t\t\t\t    simulation\r\n",
      "14.poscar  4.poscar   electronic_visualization\t\t    static\r\n",
      "15.poscar  5.poscar   Energy_Prediction_Tutorial.ipynb\t    templates\r\n",
      "16.poscar  6.poscar   example\t\t\t\t    temp.py\r\n",
      "17.poscar  7.poscar   fill.py\t\t\t\t    test.p\r\n",
      "18.poscar  8.poscar   manage.py\t\t\t\t    Untitled1.ipynb\r\n",
      "19.poscar  9.poscar   materialsweb2\t\t\t    Untitled2.ipynb\r\n",
      "1.poscar   accounts   ml.ipynb\t\t\t\t    Untitled.ipynb\r\n",
      "20.poscar  api\t      pages\r\n"
     ]
    }
   ],
   "source": [
    "!ls"
   ]
  },
  {
   "cell_type": "markdown",
   "metadata": {},
   "source": [
    "# Normalizing Representations"
   ]
  },
  {
   "cell_type": "markdown",
   "metadata": {},
   "source": [
    "Often, it is helpful to normalize the inputs for machine learning. Earlier, we observed that the ranges across different features in the representation can vary dramatically. Here, we normalize all 576 features independently such that they are centered at 0 and have a variance of 1. This is not always necessary, depending on the representation chosen. It does not appear to help with SOAP."
   ]
  },
  {
   "cell_type": "code",
   "execution_count": 92,
   "metadata": {},
   "outputs": [],
   "source": [
    "from sklearn.preprocessing import StandardScaler\n",
    "scaler = StandardScaler().fit(training_inputs)\n",
    "training_inputs = scaler.transform(training_inputs)\n",
    "testing_inputs = scaler.transform(testing_inputs)"
   ]
  },
  {
   "cell_type": "code",
   "execution_count": 93,
   "metadata": {},
   "outputs": [
    {
     "data": {
      "text/plain": [
       "<function matplotlib.pyplot.show(*args, **kw)>"
      ]
     },
     "execution_count": 93,
     "metadata": {},
     "output_type": "execute_result"
    },
    {
     "data": {
      "image/png": "[encoded data removed]",
      "text/plain": [
       "<Figure size 432x288 with 1 Axes>"
      ]
     },
     "metadata": {
      "needs_background": "light"
     },
     "output_type": "display_data"
    }
   ],
   "source": [
    "import matplotlib.pyplot as plt\n",
    "for i in range(50):\n",
    "    plt.plot(np.arange(len(soap_raw[0])), training_inputs[i])\n",
    "plt.xlabel('Representation Index')\n",
    "plt.ylabel('Value (arbitrary units)')\n",
    "plt.show"
   ]
  },
  {
   "cell_type": "code",
   "execution_count": 94,
   "metadata": {},
   "outputs": [],
   "source": [
    "model = SVR().fit(training_inputs, training_outputs)"
   ]
  },
  {
   "cell_type": "code",
   "execution_count": 95,
   "metadata": {},
   "outputs": [],
   "source": [
    "testing_predictions = model.predict(testing_inputs)"
   ]
  },
  {
   "cell_type": "code",
   "execution_count": 96,
   "metadata": {},
   "outputs": [
    {
     "name": "stdout",
     "output_type": "stream",
     "text": [
      "0.05972275220457412\n"
     ]
    }
   ],
   "source": [
    "print(np.sqrt(np.mean(np.subtract(testing_predictions, testing_outputs)**2)))"
   ]
  },
  {
   "cell_type": "code",
   "execution_count": 31,
   "metadata": {},
   "outputs": [
    {
     "data": {
      "image/png": "[encoded data removed]",
      "text/plain": [
       "<Figure size 432x288 with 1 Axes>"
      ]
     },
     "metadata": {
      "needs_background": "light"
     },
     "output_type": "display_data"
    }
   ],
   "source": [
    "plt.scatter(testing_predictions, testing_outputs, alpha=0.2)\n",
    "plt.plot([-0.4, 0.4], [-0.4, 0.4], 'k--')\n",
    "plt.axis('equal')\n",
    "plt.show()"
   ]
  },
  {
   "cell_type": "code",
   "execution_count": 110,
   "metadata": {},
   "outputs": [],
   "source": [
    "import pickle\n",
    "pickle.dump(model,open('Cd-Te.sav','wb'))"
   ]
  },
  {
   "cell_type": "markdown",
   "metadata": {},
   "source": [
    "# Random search to select best hyperparameters"
   ]
  },
  {
   "cell_type": "markdown",
   "metadata": {},
   "source": [
    "Almost every machine learning algorithm is associated with hyperparameters -- parameters that are not optimized by the algorithm itself, like weights. Examples include the choice of and options associated with representations, depth of the neural network, and regularization strength in various solvers. Here, we optimize Gamma and C, which are hyperparameters of support vector regression.\n",
    "\n",
    "The C parameter trades off misclassification of training examples against simplicity of the model.\n",
    "\n",
    "Gamma defines an overall scale factor for the support vector machine's notion of distance between two points."
   ]
  },
  {
   "cell_type": "code",
   "execution_count": 65,
   "metadata": {},
   "outputs": [
    {
     "name": "stdout",
     "output_type": "stream",
     "text": [
      "{'C': 1.1860525310410928, 'gamma': 0.003780151108509245, 'kernel': 'rbf'}\n"
     ]
    }
   ],
   "source": [
    "cScale = 5  # scale for exponential distribution\n",
    "gScale = 0.001  # scale for exponential distribution\n",
    "n_iter = 5  # number of iterations for random search. Realistically ~100\n",
    "    \n",
    "param_dist = {'C': scipy.stats.expon(scale=cScale), \n",
    "              'gamma': scipy.stats.expon(scale=gScale), \n",
    "              'kernel': ['rbf']}\n",
    "\n",
    "# using random search cross validation to select best hyperparameters,\n",
    "# performing 5-fold cross validation\n",
    "cv = CV(SVR(), \n",
    "        param_distributions=param_dist, \n",
    "        cv=5, \n",
    "        scoring='neg_mean_squared_error', \n",
    "        n_iter=n_iter, \n",
    "        n_jobs=n_cores, \n",
    "        refit=False) \n",
    "\n",
    "search=cv.fit(training_inputs, training_outputs) #trains the model using training set alone\n",
    "\n",
    "C = search.best_params_['C']\n",
    "gamma = search.best_params_['gamma']\n",
    "print(search.best_params_)"
   ]
  },
  {
   "cell_type": "code",
   "execution_count": 66,
   "metadata": {},
   "outputs": [],
   "source": [
    "model = SVR(C=C, gamma=gamma)\n",
    "model.fit(training_inputs, training_outputs)\n",
    "testing_predictions = model.predict(testing_inputs)"
   ]
  },
  {
   "cell_type": "code",
   "execution_count": 67,
   "metadata": {},
   "outputs": [
    {
     "name": "stdout",
     "output_type": "stream",
     "text": [
      "0.11062657545383316\n"
     ]
    }
   ],
   "source": [
    "print(np.sqrt(np.mean(np.subtract(testing_predictions, testing_outputs)**2)))"
   ]
  },
  {
   "cell_type": "code",
   "execution_count": 68,
   "metadata": {},
   "outputs": [
    {
     "data": {
      "image/png": "[encoded data removed]",
      "text/plain": [
       "<Figure size 432x288 with 1 Axes>"
      ]
     },
     "metadata": {
      "needs_background": "light"
     },
     "output_type": "display_data"
    }
   ],
   "source": [
    "plt.scatter(testing_predictions, testing_outputs, alpha=0.2)\n",
    "plt.plot([-0.4, 0.4], [-0.4, 0.4], 'k--')\n",
    "plt.axis('equal')\n",
    "plt.show()"
   ]
  },
  {
   "cell_type": "code",
   "execution_count": 61,
   "metadata": {},
   "outputs": [],
   "source": [
    "import pickle\n",
    "pickle.dump(model,open('Cd-Te.sav','wb'))"
   ]
  },
  {
   "cell_type": "code",
   "execution_count": null,
   "metadata": {},
   "outputs": [],
   "source": [
    "clf = pickle.load(open('CdTe.sav','rb'))\n",
    "testing_predictions = clf.predict(testing_inputs)\n",
    "print(np.sqrt(np.mean(np.subtract(testing_predictions, testing_outputs)**2)))\n",
    "plt.scatter(testing_predictions, testing_outputs, alpha=0.2)\n",
    "plt.plot([-0.4, 0.4], [-0.4, 0.4], 'k--')\n",
    "plt.axis('equal')\n",
    "plt.show()"
   ]
  },
  {
   "cell_type": "code",
   "execution_count": null,
   "metadata": {},
   "outputs": [],
   "source": [
    "import warnings\n",
    "warnings.filterwarnings('ignore', category=DeprecationWarning)\n",
    "warnings.filterwarnings('ignore', category=UserWarning)\n",
    "import nglview as nv\n",
    "import pytraj as pt\n",
    "\n",
    "p_traj = pt.load(nv.datafiles.TRR, top=nv.datafiles.PDB)\n",
    "p_view = nv.show_pytraj(p_traj)\n",
    "p_view._display_image()"
   ]
  },
  {
   "cell_type": "markdown",
   "metadata": {},
   "source": [
    "Even with as few as 5 random iterations, we see a huge effect on performance."
   ]
  }
 ],
 "metadata": {
  "kernelspec": {
   "display_name": "Python 3",
   "language": "python",
   "name": "python3"
  },
  "language_info": {
   "codemirror_mode": {
    "name": "ipython",
    "version": 3
   },
   "file_extension": ".py",
   "mimetype": "text/x-python",
   "name": "python",
   "nbconvert_exporter": "python",
   "pygments_lexer": "ipython3",
   "version": "3.7.4"
  }
 },
 "nbformat": 4,
 "nbformat_minor": 4
}
