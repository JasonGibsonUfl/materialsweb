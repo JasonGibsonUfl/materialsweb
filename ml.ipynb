{
 "cells": [
  {
   "cell_type": "markdown",
   "metadata": {},
   "source": [
    "# Imports"
   ]
  },
  {
   "cell_type": "code",
   "execution_count": 1,
   "metadata": {},
   "outputs": [],
   "source": [
    "from api.rest import QueryEngine\n",
    "\n",
    "\n",
    "\n",
    "\n"
   ]
  },
  {
   "cell_type": "code",
   "execution_count": 2,
   "metadata": {},
   "outputs": [
    {
     "name": "stdout",
     "output_type": "stream",
     "text": [
      "H4W2O8 \t\t BandGap = \t0.9633 eV\t Formation Eneergy = \t102.0 meV\n",
      "P4 \t\t BandGap = \t0.8121 eV\t Formation Eneergy = \t113.0 meV\n",
      "PtSe2 \t\t BandGap = \t1.2861 eV\t Formation Eneergy = \t113.0 meV\n",
      "Cu2Se4Cl2 \t BandGap = \t0.7236 eV\t Formation Eneergy = \t105.0 meV\n",
      "Mo2P2O10 \t BandGap = \t1.0529 eV\t Formation Eneergy = \t105.0 meV\n",
      "Ta3SeI7 \t BandGap = \t0.6855 eV\t Formation Eneergy = \t100.0 meV\n",
      "Cu2Se4Br2 \t BandGap = \t0.727 eV\t Formation Eneergy = \t103.0 meV\n"
     ]
    }
   ],
   "source": [
    "qe = QueryEngine() \n",
    "a = qe.get_calculation(band_gap_range=[.5,1.5], formation_energy_range=[100,120])\n",
    "for b in a:\n",
    "    c = b.calculations\n",
    "    d = (list(c.keys())[0])\n",
    "    e=c[d]\n",
    "    if len(str(c[d]).split('@')[0])< 8:\n",
    "        #print(str(c[d]).split('@')[0])\n",
    "        print(str(e).split('@')[0] + '\\t\\t BandGap = \\t' + str(round(e.band_gap,4)) + \n",
    "              ' eV\\t Formation Eneergy = \\t' + str(e.formation_energy)+ ' meV')\n",
    "    else:\n",
    "        print(str(e).split('@')[0] + '\\t BandGap = \\t' + str(round(e.band_gap,4)) +\n",
    "              ' eV\\t Formation Eneergy = \\t' + str(e.formation_energy) + ' meV')"
   ]
  },
  {
   "cell_type": "code",
   "execution_count": 3,
   "metadata": {},
   "outputs": [
    {
     "name": "stdout",
     "output_type": "stream",
     "text": [
      "mp-29567\n",
      "['Br', 'Cu', 'Se']\n"
     ]
    },
    {
     "data": {
      "text/plain": [
       "array([[ 1.7189087e-02,  8.4105231e-02,  2.0773113e-01, ...,\n",
       "         4.4646129e-04, -8.4634608e-04,  2.0165688e-03],\n",
       "       [ 1.7189087e-02,  8.4105231e-02,  2.0773113e-01, ...,\n",
       "         2.5796666e-04, -7.0166041e-04,  1.9177982e-03],\n",
       "       [ 5.1443847e-05,  2.1490536e-04,  7.4665423e-04, ...,\n",
       "         3.6380533e-02, -3.7091155e-02,  3.8519539e-02],\n",
       "       ...,\n",
       "       [ 4.5651897e-05,  2.2984852e-04,  6.5696868e-04, ...,\n",
       "         3.8730759e-02, -3.8297370e-02,  3.9207276e-02],\n",
       "       [ 4.5801458e-05,  1.9927997e-04,  6.8482052e-04, ...,\n",
       "         8.6064306e-10, -3.7011910e-10,  1.5916951e-10],\n",
       "       [ 4.2405627e-05,  1.9999448e-04,  6.2054128e-04, ...,\n",
       "         8.6064306e-10, -3.7011910e-10,  1.5916951e-10]], dtype=float32)"
      ]
     },
     "execution_count": 3,
     "metadata": {},
     "output_type": "execute_result"
    }
   ],
   "source": [
    "\n",
    "c = a.last().calculations \n",
    "l = (list(c.keys())[0])\n",
    "print(l)\n",
    "c[l].get_soap()"
   ]
  },
  {
   "cell_type": "code",
   "execution_count": 4,
   "metadata": {},
   "outputs": [
    {
     "name": "stdout",
     "output_type": "stream",
     "text": [
      "/home/jason/dev/materialsweb\n",
      "0.energy  1.energy  2.energy  3.energy  4.energy  5.energy  6.energy  OsZICAR\n",
      "0.poscar  1.poscar  2.poscar  3.poscar  4.poscar  5.poscar  6.poscar  XdATCAR\n"
     ]
    }
   ],
   "source": [
    "%cd /home/jason/dev/materialsweb\n",
    "c[l].prep_ml_formation_energy()\n",
    "%ls"
   ]
  },
  {
   "cell_type": "code",
   "execution_count": null,
   "metadata": {},
   "outputs": [],
   "source": []
  }
 ],
 "metadata": {
  "kernelspec": {
   "display_name": "Python 3",
   "language": "python",
   "name": "python3"
  },
  "language_info": {
   "codemirror_mode": {
    "name": "ipython",
    "version": 3
   },
   "file_extension": ".py",
   "mimetype": "text/x-python",
   "name": "python",
   "nbconvert_exporter": "python",
   "pygments_lexer": "ipython3",
   "version": "3.6.9"
  }
 },
 "nbformat": 4,
 "nbformat_minor": 2
}
