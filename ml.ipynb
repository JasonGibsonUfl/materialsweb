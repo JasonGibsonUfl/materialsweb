{
 "cells": [
  {
   "cell_type": "markdown",
   "metadata": {},
   "source": [
    "# Imports"
   ]
  },
  {
   "cell_type": "code",
   "execution_count": 4,
   "metadata": {},
   "outputs": [
    {
     "name": "stdout",
     "output_type": "stream",
     "text": [
      "0.8146\n",
      "0.7652000000000001\n",
      "1.1597\n"
     ]
    }
   ],
   "source": [
    "from api.rest import QueryEngine\n",
    "qe = QueryEngine() \n",
    "a = qe.get_calculation(band_gap_range=[.5,1.5], formation_energy_range=[115,130])\n",
    "for b in a:\n",
    "    print(b.band_gap)\n",
    "\n",
    "\n"
   ]
  },
  {
   "cell_type": "code",
   "execution_count": 5,
   "metadata": {},
   "outputs": [
    {
     "name": "stdout",
     "output_type": "stream",
     "text": [
      "Cu2Te4Br2 \t BandGap = \t0.8146 eV\t Formation Eneergy = \t129.0 meV\n",
      "Cu2Te4Cl2 \t BandGap = \t0.7652 eV\t Formation Eneergy = \t127.0 meV\n",
      "Cu2As4S3Cl2 \t BandGap = \t1.1597 eV\t Formation Eneergy = \t123.0 meV\n"
     ]
    }
   ],
   "source": [
    "\n",
    "qe = QueryEngine() \n",
    "a = qe.get_calculation(band_gap_range=[.5,1.5], formation_energy_range=[115,130])\n",
    "for e in a:\n",
    "\n",
    "    if len(str(e).split('@')[0])< 8:\n",
    "        #print(str(c[d]).split('@')[0])\n",
    "        print(str(e).split('@')[0] + '\\t\\t BandGap = \\t' + str(round(e.band_gap,4)) + \n",
    "              ' eV\\t Formation Eneergy = \\t' + str(e.formation_energy)+ ' meV')\n",
    "    else:\n",
    "        print(str(e).split('@')[0] + '\\t BandGap = \\t' + str(round(e.band_gap,4)) +\n",
    "              ' eV\\t Formation Eneergy = \\t' + str(e.formation_energy) + ' meV')"
   ]
  },
  {
   "cell_type": "code",
   "execution_count": 8,
   "metadata": {},
   "outputs": [
    {
     "name": "stdout",
     "output_type": "stream",
     "text": [
      "['As', 'Cl', 'Cu', 'S']\n"
     ]
    },
    {
     "data": {
      "text/plain": [
       "array([[ 5.5549579e-05,  2.4043348e-04,  7.6460053e-04, ...,\n",
       "         3.5828374e-02, -3.5192721e-02,  3.7318230e-02],\n",
       "       [ 1.9326960e-04,  9.3512761e-04,  2.5425893e-03, ...,\n",
       "         4.6874110e-02, -5.3594828e-02,  6.5699995e-02],\n",
       "       [ 5.6693101e-05,  2.2033141e-04,  8.2497374e-04, ...,\n",
       "         3.3562732e-04, -1.8283533e-04,  9.9600875e-05],\n",
       "       ...,\n",
       "       [ 1.7074287e-02,  8.2415871e-02,  2.0540068e-01, ...,\n",
       "         2.9833823e-02, -2.5253408e-02,  2.2106795e-02],\n",
       "       [ 7.6232845e-07,  6.7098349e-06,  2.0727011e-05, ...,\n",
       "         3.9521564e-02, -4.2894583e-02,  5.0028000e-02],\n",
       "       [ 2.1266979e-07,  1.7128305e-06,  6.1717942e-06, ...,\n",
       "         6.0148228e-02, -5.0085861e-02,  4.2750444e-02]], dtype=float32)"
      ]
     },
     "execution_count": 8,
     "metadata": {},
     "output_type": "execute_result"
    }
   ],
   "source": [
    "\n",
    "c = a.last()\n",
    "c.get_soap()"
   ]
  },
  {
   "cell_type": "code",
   "execution_count": null,
   "metadata": {},
   "outputs": [],
   "source": [
    "%cd /home/jason/dev/materialsweb\n",
    "c[l].prep_ml_formation_energy()\n",
    "%ls"
   ]
  },
  {
   "cell_type": "code",
   "execution_count": null,
   "metadata": {},
   "outputs": [],
   "source": []
  }
 ],
 "metadata": {
  "kernelspec": {
   "display_name": "Python 3",
   "language": "python",
   "name": "python3"
  },
  "language_info": {
   "codemirror_mode": {
    "name": "ipython",
    "version": 3
   },
   "file_extension": ".py",
   "mimetype": "text/x-python",
   "name": "python",
   "nbconvert_exporter": "python",
   "pygments_lexer": "ipython3",
   "version": "3.6.9"
  }
 },
 "nbformat": 4,
 "nbformat_minor": 2
}
