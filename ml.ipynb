{
 "cells": [
  {
   "cell_type": "markdown",
   "metadata": {},
   "source": [
    "# Imports"
   ]
  },
  {
   "cell_type": "code",
   "execution_count": 5,
   "metadata": {},
   "outputs": [],
   "source": [
    "from api.rest import QueryEngine"
   ]
  },
  {
   "cell_type": "markdown",
   "metadata": {},
   "source": [
    "# Queries\n",
    "- **band_gap_range**  \n",
    "Range of bandgaps in *eV* as a two valued list eg. [1.2, 3.1]  \n",
    "- **Formation_energy_range**  \n",
    "Range of formation energies in *meV* as two values list eg. [50, 150]\n",
    "- **elements**  \n",
    "List of elements contained in entry eg. ['Na', 'Cl']  \n",
    "note: this will return all entries that contain Na and Cl as well as any other element \n",
    "- **space_group_number**  \n",
    "integer of space group number eg. 5\n",
    "- **dimention**  \n",
    "integer of dimension of material eg. 2\n",
    "- **crystal_system**  \n",
    "crystal system as a string eg. 'Tetragonal'  \n"
   ]
  },
  {
   "cell_type": "code",
   "execution_count": 6,
   "metadata": {},
   "outputs": [
    {
     "name": "stdout",
     "output_type": "stream",
     "text": [
      "query info     band_gap_range: [1, 1.5]  formation_energy_range: [124, 150] elements: [] space_group_number: None dimension: None crystal_system: None\n",
      "Pd2S4 \t\t BandGap = \t1.1746 eV\t Formation Eneergy = \t148.0 meV\n",
      "Ge2Se2 \t\t BandGap = \t1.2107 eV\t Formation Eneergy = \t133.0 meV\n",
      "Pt4I8 \t\t BandGap = \t1.4215 eV\t Formation Eneergy = \t135.0 meV\n",
      "Pd4I8 \t\t BandGap = \t1.1512 eV\t Formation Eneergy = \t133.0 meV\n",
      "MoO3 \t\t BandGap = \t1.1381 eV\t Formation Eneergy = \t136.0 meV\n"
     ]
    }
   ],
   "source": [
    "qe = QueryEngine() \n",
    "\n",
    "a = qe.get_calculation(band_gap_range=[1,1.5], formation_energy_range=[124,150])\n",
    "\n",
    "for e in a:\n",
    "    if len(str(e).split('@')[0])< 8:\n",
    "        print(str(e).split('@')[0] + '\\t\\t BandGap = \\t' + str(round(e.band_gap,4)) + \n",
    "              ' eV\\t Formation Eneergy = \\t' + str(e.formation_energy)+ ' meV')\n",
    "    else:\n",
    "        print(str(e).split('@')[0] + '\\t BandGap = \\t' + str(round(e.band_gap,4)) +\n",
    "              ' eV\\t Formation Eneergy = \\t' + str(e.formation_energy) + ' meV')"
   ]
  },
  {
   "cell_type": "code",
   "execution_count": 7,
   "metadata": {},
   "outputs": [
    {
     "name": "stdout",
     "output_type": "stream",
     "text": [
      "/home/jason/dev/materialsweb/example\n",
      "mp-13682\n",
      "mp-700\n",
      "mp-28319\n",
      "mp-27747\n",
      "mp-715463\n",
      "\u001b[0m\u001b[01;34mGeSe\u001b[0m/  \u001b[01;34mMoO3\u001b[0m/  \u001b[01;34mPdI2\u001b[0m/  \u001b[01;34mPdS2\u001b[0m/  \u001b[01;34mPtI2\u001b[0m/\n",
      "/home/jason/dev/materialsweb\n"
     ]
    }
   ],
   "source": [
    "import os \n",
    "os.mkdir('example')\n",
    "%cd example\n",
    "for e in a:\n",
    "    os.mkdir(e.entry.name)\n",
    "    os.chdir(e.entry.name)\n",
    "    e.write()\n",
    "    os.chdir('..')\n",
    "%ls\n",
    "%cd ..\n",
    "   \n"
   ]
  },
  {
   "cell_type": "code",
   "execution_count": 4,
   "metadata": {},
   "outputs": [
    {
     "ename": "OSError",
     "evalue": "[Errno 39] Directory not empty: 'example'",
     "output_type": "error",
     "traceback": [
      "\u001b[0;31m---------------------------------------------------------------------------\u001b[0m",
      "\u001b[0;31mOSError\u001b[0m                                   Traceback (most recent call last)",
      "\u001b[0;32m<ipython-input-4-ab08bad10e57>\u001b[0m in \u001b[0;36m<module>\u001b[0;34m\u001b[0m\n\u001b[0;32m----> 1\u001b[0;31m \u001b[0mos\u001b[0m\u001b[0;34m.\u001b[0m\u001b[0mrmdir\u001b[0m\u001b[0;34m(\u001b[0m\u001b[0;34m'example'\u001b[0m\u001b[0;34m)\u001b[0m\u001b[0;34m\u001b[0m\u001b[0;34m\u001b[0m\u001b[0m\n\u001b[0m",
      "\u001b[0;31mOSError\u001b[0m: [Errno 39] Directory not empty: 'example'"
     ]
    }
   ],
   "source": [
    "os.rmdir('example')\n"
   ]
  },
  {
   "cell_type": "code",
   "execution_count": 8,
   "metadata": {},
   "outputs": [
    {
     "name": "stdout",
     "output_type": "stream",
     "text": [
      "['Mo', 'O']\n"
     ]
    },
    {
     "data": {
      "text/plain": [
       "array([[ 1.5950422e-05,  2.8637054e-05, -2.5482109e-04, ...,\n",
       "         0.0000000e+00,  0.0000000e+00,  0.0000000e+00],\n",
       "       [ 1.5111515e-02,  7.2775774e-02,  1.7874929e-01, ...,\n",
       "         2.0626926e-06, -1.1114194e-05,  5.9885468e-05],\n",
       "       [ 1.5436095e-02,  7.4300393e-02,  1.8286280e-01, ...,\n",
       "         5.8788451e-06, -2.7299011e-05,  1.2676571e-04],\n",
       "       [ 1.5505436e-02,  7.4621662e-02,  1.8370523e-01, ...,\n",
       "         6.6426281e-07, -4.2106908e-06,  2.6691119e-05]], dtype=float32)"
      ]
     },
     "execution_count": 8,
     "metadata": {},
     "output_type": "execute_result"
    }
   ],
   "source": [
    "c = a.last()\n",
    "c.get_soap()"
   ]
  },
  {
   "cell_type": "code",
   "execution_count": null,
   "metadata": {},
   "outputs": [],
   "source": [
    "print(c.configuration)\n"
   ]
  },
  {
   "cell_type": "code",
   "execution_count": null,
   "metadata": {},
   "outputs": [],
   "source": [
    "%cd /home/jason/dev/materialsweb\n",
    "%rm -rf formation_energy"
   ]
  },
  {
   "cell_type": "code",
   "execution_count": null,
   "metadata": {},
   "outputs": [],
   "source": [
    "#c.prep_ml_formation_energy()\n",
    "%ls"
   ]
  },
  {
   "cell_type": "code",
   "execution_count": null,
   "metadata": {
    "scrolled": true
   },
   "outputs": [],
   "source": [
    "c.write_incar()"
   ]
  },
  {
   "cell_type": "code",
   "execution_count": null,
   "metadata": {},
   "outputs": [],
   "source": [
    "\n",
    "qe.get_calculation(crystal_system=['Tetragonal'])\n"
   ]
  },
  {
   "cell_type": "code",
   "execution_count": null,
   "metadata": {},
   "outputs": [],
   "source": [
    "import os \n",
    "os.remove('OsZICAR')\n",
    "%ls"
   ]
  },
  {
   "cell_type": "code",
   "execution_count": null,
   "metadata": {},
   "outputs": [],
   "source": [
    "c.composition"
   ]
  },
  {
   "cell_type": "code",
   "execution_count": null,
   "metadata": {},
   "outputs": [],
   "source": [
    "c.entry.structure.lat_param_string()\n"
   ]
  },
  {
   "cell_type": "code",
   "execution_count": null,
   "metadata": {},
   "outputs": [],
   "source": [
    "from simulation.materials.element import Element\n",
    "Element.objects.get(symbol='O')"
   ]
  },
  {
   "cell_type": "code",
   "execution_count": null,
   "metadata": {},
   "outputs": [],
   "source": [
    "c.composition.html"
   ]
  },
  {
   "cell_type": "code",
   "execution_count": null,
   "metadata": {},
   "outputs": [],
   "source": []
  }
 ],
 "metadata": {
  "kernelspec": {
   "display_name": "Python 3",
   "language": "python",
   "name": "python3"
  },
  "language_info": {
   "codemirror_mode": {
    "name": "ipython",
    "version": 3
   },
   "file_extension": ".py",
   "mimetype": "text/x-python",
   "name": "python",
   "nbconvert_exporter": "python",
   "pygments_lexer": "ipython3",
   "version": "3.6.9"
  }
 },
 "nbformat": 4,
 "nbformat_minor": 2
}
