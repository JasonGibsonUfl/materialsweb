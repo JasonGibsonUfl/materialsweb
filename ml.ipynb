{
 "cells": [
  {
   "cell_type": "code",
   "execution_count": 11,
   "metadata": {},
   "outputs": [
    {
     "name": "stdout",
     "output_type": "stream",
     "text": [
      "mp-27771\n"
     ]
    },
    {
     "data": {
      "text/plain": [
       "array([[ 4.4760611e-05,  1.4040916e-04,  7.3006545e-04, ...,\n",
       "         4.5992322e-03, -8.6818505e-03,  1.6388504e-02],\n",
       "       [ 4.4760585e-05,  1.4040893e-04,  7.3006551e-04, ...,\n",
       "         4.5992564e-03, -8.6818915e-03,  1.6388573e-02],\n",
       "       [ 1.6868090e-02,  8.2807325e-02,  2.0187657e-01, ...,\n",
       "         9.1514405e-04, -2.1283929e-03,  4.9501020e-03],\n",
       "       ...,\n",
       "       [ 3.4400166e-04,  1.7627055e-03,  5.5097668e-03, ...,\n",
       "         4.5992993e-03, -8.6819651e-03,  1.6388698e-02],\n",
       "       [ 1.6886992e-02,  8.2019910e-02,  2.0179562e-01, ...,\n",
       "         2.7886361e-02, -2.2379100e-02,  1.7960096e-02],\n",
       "       [ 1.7102478e-02,  8.2519114e-02,  2.0573482e-01, ...,\n",
       "         0.0000000e+00,  0.0000000e+00,  0.0000000e+00]], dtype=float32)"
      ]
     },
     "execution_count": 11,
     "metadata": {},
     "output_type": "execute_result"
    }
   ],
   "source": [
    "from api.rest import QueryEngine\n",
    "\n",
    "qe = QueryEngine() \n",
    "a = qe.get_calculation(band_gap_range=[.1,2.1]) \n",
    "c = a.last().calculations \n",
    "l = (list(c.keys())[0])\n",
    "print(l)\n",
    "c[l].get_soap()"
   ]
  },
  {
   "cell_type": "code",
   "execution_count": 2,
   "metadata": {},
   "outputs": [
    {
     "name": "stdout",
     "output_type": "stream",
     "text": [
      "/home/jason/dev/materialsweb\n"
     ]
    }
   ],
   "source": [
    "%cd /home/jason/dev/materialsweb\n"
   ]
  },
  {
   "cell_type": "code",
   "execution_count": null,
   "metadata": {},
   "outputs": [],
   "source": []
  }
 ],
 "metadata": {
  "kernelspec": {
   "display_name": "Python 3",
   "language": "python",
   "name": "python3"
  },
  "language_info": {
   "codemirror_mode": {
    "name": "ipython",
    "version": 3
   },
   "file_extension": ".py",
   "mimetype": "text/x-python",
   "name": "python",
   "nbconvert_exporter": "python",
   "pygments_lexer": "ipython3",
   "version": "3.6.9"
  }
 },
 "nbformat": 4,
 "nbformat_minor": 2
}
