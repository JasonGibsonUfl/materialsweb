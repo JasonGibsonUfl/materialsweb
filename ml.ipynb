{
 "cells": [
  {
   "cell_type": "markdown",
   "metadata": {},
   "source": [
    "# Imports"
   ]
  },
  {
   "cell_type": "code",
   "execution_count": 22,
   "metadata": {},
   "outputs": [],
   "source": [
    "from api.rest import QueryEngine"
   ]
  },
  {
   "cell_type": "markdown",
   "metadata": {},
   "source": [
    "# Queries\n",
    "- **band_gap_range**  \n",
    "Range of bandgaps in *eV* as a two valued list eg. [1.2, 3.1]  \n",
    "- **Formation_energy_range**  \n",
    "Range of formation energies in *meV* as two values list eg. [50, 150]\n",
    "- **elements**  \n",
    "List of elements contained in entry eg. ['Na', 'Cl']  \n",
    "note: this will return all entries that contain Na and Cl as well as any other element \n",
    "- **space_group_number**  \n",
    "integer of space group number eg. 5\n",
    "- **dimention**  \n",
    "integer of dimension of material eg. 2\n",
    "- **crystal_system**  \n",
    "crystal system as a string eg. 'Tetragonal'  \n"
   ]
  },
  {
   "cell_type": "code",
   "execution_count": 23,
   "metadata": {},
   "outputs": [
    {
     "name": "stdout",
     "output_type": "stream",
     "text": [
      "query info     band_gap_range: [1, 1.5]  formation_energy_range: [124, 150] elements: [] space_group_number: None dimension: None crystal_system: None\n",
      "Pd2S4 \t\t BandGap = \t1.1746 eV\t Formation Eneergy = \t148.0 meV\n",
      "Ge2Se2 \t\t BandGap = \t1.2107 eV\t Formation Eneergy = \t133.0 meV\n",
      "Pt4I8 \t\t BandGap = \t1.4215 eV\t Formation Eneergy = \t135.0 meV\n",
      "Pd4I8 \t\t BandGap = \t1.1512 eV\t Formation Eneergy = \t133.0 meV\n",
      "MoO3 \t\t BandGap = \t1.1381 eV\t Formation Eneergy = \t136.0 meV\n"
     ]
    }
   ],
   "source": [
    "qe = QueryEngine() \n",
    "\n",
    "a = qe.get_calculation(band_gap_range=[1,1.5], formation_energy_range=[124,150])\n",
    "\n",
    "for e in a:\n",
    "    if len(str(e).split('@')[0])< 8:\n",
    "        print(str(e).split('@')[0] + '\\t\\t BandGap = \\t' + str(round(e.band_gap,4)) + \n",
    "              ' eV\\t Formation Eneergy = \\t' + str(e.formation_energy)+ ' meV')\n",
    "    else:\n",
    "        print(str(e).split('@')[0] + '\\t BandGap = \\t' + str(round(e.band_gap,4)) +\n",
    "              ' eV\\t Formation Eneergy = \\t' + str(e.formation_energy) + ' meV')"
   ]
  },
  {
   "cell_type": "code",
   "execution_count": 13,
   "metadata": {},
   "outputs": [],
   "source": [
    "#qe = QueryEngine() \n",
    "\n",
    "#a = qe.get_calculation(elements=['B','N'])\n"
   ]
  },
  {
   "cell_type": "code",
   "execution_count": 24,
   "metadata": {},
   "outputs": [
    {
     "name": "stdout",
     "output_type": "stream",
     "text": [
      "['Mo', 'O']\n"
     ]
    },
    {
     "data": {
      "text/plain": [
       "array([[ 1.5950422e-05,  2.8637054e-05, -2.5482109e-04, ...,\n",
       "         0.0000000e+00,  0.0000000e+00,  0.0000000e+00],\n",
       "       [ 1.5111515e-02,  7.2775774e-02,  1.7874929e-01, ...,\n",
       "         2.0626926e-06, -1.1114194e-05,  5.9885468e-05],\n",
       "       [ 1.5436095e-02,  7.4300393e-02,  1.8286280e-01, ...,\n",
       "         5.8788451e-06, -2.7299011e-05,  1.2676571e-04],\n",
       "       [ 1.5505436e-02,  7.4621662e-02,  1.8370523e-01, ...,\n",
       "         6.6426281e-07, -4.2106908e-06,  2.6691119e-05]], dtype=float32)"
      ]
     },
     "execution_count": 24,
     "metadata": {},
     "output_type": "execute_result"
    }
   ],
   "source": [
    "c = a.last()\n",
    "c.get_soap()"
   ]
  },
  {
   "cell_type": "code",
   "execution_count": 15,
   "metadata": {},
   "outputs": [
    {
     "name": "stdout",
     "output_type": "stream",
     "text": [
      "[]\n"
     ]
    }
   ],
   "source": [
    "c.get_outcar()\n",
    "#c.read_outcar_results()\n",
    "print(c.potentials)\n"
   ]
  },
  {
   "cell_type": "code",
   "execution_count": 25,
   "metadata": {},
   "outputs": [
    {
     "name": "stdout",
     "output_type": "stream",
     "text": [
      "/home/jason/dev/materialsweb\n"
     ]
    }
   ],
   "source": [
    "%cd /home/jason/dev/materialsweb\n",
    "%rm -rf formation_energy"
   ]
  },
  {
   "cell_type": "code",
   "execution_count": 26,
   "metadata": {},
   "outputs": [
    {
     "name": "stdout",
     "output_type": "stream",
     "text": [
      "0.energy   12.energy  15.energy  18.energy  3.energy  6.energy  9.energy\r\n",
      "0.poscar   12.poscar  15.poscar  18.poscar  3.poscar  6.poscar  9.poscar\r\n",
      "10.energy  13.energy  16.energy  1.energy   4.energy  7.energy  OsZICAR\r\n",
      "10.poscar  13.poscar  16.poscar  1.poscar   4.poscar  7.poscar  XdATCAR\r\n",
      "11.energy  14.energy  17.energy  2.energy   5.energy  8.energy\r\n",
      "11.poscar  14.poscar  17.poscar  2.poscar   5.poscar  8.poscar\r\n"
     ]
    }
   ],
   "source": [
    "c.prep_ml_formation_energy()\n",
    "%ls"
   ]
  },
  {
   "cell_type": "code",
   "execution_count": 18,
   "metadata": {
    "scrolled": true
   },
   "outputs": [],
   "source": [
    "c.write_incar()"
   ]
  },
  {
   "cell_type": "code",
   "execution_count": 19,
   "metadata": {},
   "outputs": [
    {
     "name": "stdout",
     "output_type": "stream",
     "text": [
      "query info     band_gap_range: None  formation_energy_range: None elements: [] space_group_number: None dimension: None crystal_system: ['Tetragonal']\n"
     ]
    },
    {
     "data": {
      "text/plain": [
       "<QuerySet [<Calculation: Cr12P4 @ PREC=HIGH>, <Calculation: Ti4Ga6 @ PREC=HIGH>, <Calculation: V2P2O10 @ PREC=ACCURA>, <Calculation: V2Mo2O10 @ PREC=ACCURA>, <Calculation: Mo2P2O10 @ PREC=ACCURA>, <Calculation: Cr2P2O10 @ PREC=ACCURA>, <Calculation: Nb24As8 @ PREC=HIGH>, <Calculation: Nb24P8 @ PREC=HIGH>, <Calculation: Ta24Si8 @ PREC=HIGH>, <Calculation: Ta24Ge8 @ PREC=HIGH>, <Calculation: V24P8 @ PREC=HIGH>, <Calculation: Ta24P8 @ PREC=HIGH>, <Calculation: Ta5As4 @ PREC=HIGH>, <Calculation: Mo5As4 @ PREC=HIGH>, <Calculation: Ti20Si16 @ PREC=HIGH>, <Calculation: Zr20Si16 @ PREC=HIGH>, <Calculation: Cd2As4 @ PREC=HIGH>, <Calculation: Ca2CuBr2O2 @ PREC=ACCURA>, <Calculation: PbF4 @ PREC=ACCURA>, <Calculation: Pu2I2O2 @ PREC=ACCURA>, '...(remaining elements truncated)...']>"
      ]
     },
     "execution_count": 19,
     "metadata": {},
     "output_type": "execute_result"
    }
   ],
   "source": [
    "\n",
    "qe.get_calculation(crystal_system=['Tetragonal'])\n"
   ]
  },
  {
   "cell_type": "code",
   "execution_count": 20,
   "metadata": {},
   "outputs": [
    {
     "name": "stdout",
     "output_type": "stream",
     "text": [
      "0.energy   12.energy  15.energy  18.energy  3.energy  6.energy  9.energy\r\n",
      "0.poscar   12.poscar  15.poscar  18.poscar  3.poscar  6.poscar  9.poscar\r\n",
      "10.energy  13.energy  16.energy  1.energy   4.energy  7.energy  INCAR\r\n",
      "10.poscar  13.poscar  16.poscar  1.poscar   4.poscar  7.poscar  XdATCAR\r\n",
      "11.energy  14.energy  17.energy  2.energy   5.energy  8.energy\r\n",
      "11.poscar  14.poscar  17.poscar  2.poscar   5.poscar  8.poscar\r\n"
     ]
    }
   ],
   "source": [
    "import os \n",
    "os.remove('OsZICAR')\n",
    "%ls"
   ]
  },
  {
   "cell_type": "code",
   "execution_count": 21,
   "metadata": {},
   "outputs": [
    {
     "data": {
      "text/plain": [
       "<Composition: MoO3>"
      ]
     },
     "execution_count": 21,
     "metadata": {},
     "output_type": "execute_result"
    }
   ],
   "source": [
    "c.composition"
   ]
  },
  {
   "cell_type": "code",
   "execution_count": null,
   "metadata": {},
   "outputs": [],
   "source": []
  },
  {
   "cell_type": "code",
   "execution_count": null,
   "metadata": {},
   "outputs": [],
   "source": []
  },
  {
   "cell_type": "code",
   "execution_count": null,
   "metadata": {},
   "outputs": [],
   "source": []
  }
 ],
 "metadata": {
  "kernelspec": {
   "display_name": "Python 3",
   "language": "python",
   "name": "python3"
  },
  "language_info": {
   "codemirror_mode": {
    "name": "ipython",
    "version": 3
   },
   "file_extension": ".py",
   "mimetype": "text/x-python",
   "name": "python",
   "nbconvert_exporter": "python",
   "pygments_lexer": "ipython3",
   "version": "3.6.9"
  }
 },
 "nbformat": 4,
 "nbformat_minor": 2
}
