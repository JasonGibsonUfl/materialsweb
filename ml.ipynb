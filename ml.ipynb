{
 "cells": [
  {
   "cell_type": "markdown",
   "metadata": {},
   "source": [
    "# Imports"
   ]
  },
  {
   "cell_type": "code",
   "execution_count": 1,
   "metadata": {},
   "outputs": [
    {
     "name": "stdout",
     "output_type": "stream",
     "text": [
      "0.8146\n",
      "0.7652000000000001\n",
      "1.1597\n"
     ]
    }
   ],
   "source": [
    "from api.rest import QueryEngine\n",
    "qe = QueryEngine() \n",
    "a = qe.get_calculation(band_gap_range=[.5,1.5], formation_energy_range=[115,130])\n",
    "for b in a:\n",
    "    print(b.band_gap)\n",
    "\n",
    "\n"
   ]
  },
  {
   "cell_type": "code",
   "execution_count": 3,
   "metadata": {},
   "outputs": [
    {
     "name": "stdout",
     "output_type": "stream",
     "text": [
      "Cu2Te4Br2 \t BandGap = \t0.8146 eV\t Formation Eneergy = \t129.0 meV\n",
      "Cu2Te4Cl2 \t BandGap = \t0.7652 eV\t Formation Eneergy = \t127.0 meV\n",
      "Cu2As4S3Cl2 \t BandGap = \t1.1597 eV\t Formation Eneergy = \t123.0 meV\n"
     ]
    }
   ],
   "source": [
    "\n",
    "qe = QueryEngine() \n",
    "a = qe.get_calculation(band_gap_range=[.5,1.5], formation_energy_range=[115,130])\n",
    "for e in a:\n",
    "\n",
    "    if len(str(e).split('@')[0])< 8:\n",
    "        #print(str(c[d]).split('@')[0])\n",
    "        print(str(e).split('@')[0] + '\\t\\t BandGap = \\t' + str(round(e.band_gap,4)) + \n",
    "              ' eV\\t Formation Eneergy = \\t' + str(e.formation_energy)+ ' meV')\n",
    "    else:\n",
    "        print(str(e).split('@')[0] + '\\t BandGap = \\t' + str(round(e.band_gap,4)) +\n",
    "              ' eV\\t Formation Eneergy = \\t' + str(e.formation_energy) + ' meV')"
   ]
  },
  {
   "cell_type": "code",
   "execution_count": null,
   "metadata": {},
   "outputs": [],
   "source": [
    "\n",
    "c = a.last().calculations \n",
    "print(l)\n",
    "c.get_soap()"
   ]
  },
  {
   "cell_type": "code",
   "execution_count": null,
   "metadata": {},
   "outputs": [],
   "source": [
    "%cd /home/jason/dev/materialsweb\n",
    "c[l].prep_ml_formation_energy()\n",
    "%ls"
   ]
  },
  {
   "cell_type": "code",
   "execution_count": null,
   "metadata": {},
   "outputs": [],
   "source": []
  }
 ],
 "metadata": {
  "kernelspec": {
   "display_name": "Python 3",
   "language": "python",
   "name": "python3"
  },
  "language_info": {
   "codemirror_mode": {
    "name": "ipython",
    "version": 3
   },
   "file_extension": ".py",
   "mimetype": "text/x-python",
   "name": "python",
   "nbconvert_exporter": "python",
   "pygments_lexer": "ipython3",
   "version": "3.6.9"
  }
 },
 "nbformat": 4,
 "nbformat_minor": 2
}
