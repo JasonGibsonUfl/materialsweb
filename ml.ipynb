{
 "cells": [
  {
   "cell_type": "markdown",
   "metadata": {},
   "source": [
    "# Imports"
   ]
  },
  {
   "cell_type": "code",
   "execution_count": 1,
   "metadata": {},
   "outputs": [],
   "source": [
    "from api.rest import QueryEngine"
   ]
  },
  {
   "cell_type": "markdown",
   "metadata": {},
   "source": [
    "# Queries\n",
    "- **band_gap_range**  \n",
    "Range of bandgaps in *eV* as a two valued list eg. [1.2, 3.1]  \n",
    "- **Formation_energy_range**  \n",
    "Range of formation energies in *meV* as two values list eg. [50, 150]\n",
    "- **elements**  \n",
    "List of elements contained in entry eg. ['Na', 'Cl']  \n",
    "note: this will return all entries that contain Na and Cl as well as any other element \n",
    "- **space_group_number**  \n",
    "integer of space group number eg. 5\n",
    "- **dimention**  \n",
    "integer of dimension of material eg. 2\n",
    "- **crystal_system**  \n",
    "crystal system as a string eg. 'Tetragonal'  \n"
   ]
  },
  {
   "cell_type": "code",
   "execution_count": 2,
   "metadata": {},
   "outputs": [
    {
     "name": "stdout",
     "output_type": "stream",
     "text": [
      "query info     band_gap_range: [1, 1.5]  formation_energy_range: [124, 150] elements: [] space_group_number: None dimension: None crystal_system: None\n",
      "Pd2S4 \t\t BandGap = \t1.1746 eV\t Formation Eneergy = \t148.0 meV\n",
      "Ge2Se2 \t\t BandGap = \t1.2107 eV\t Formation Eneergy = \t133.0 meV\n",
      "Pt4I8 \t\t BandGap = \t1.4215 eV\t Formation Eneergy = \t135.0 meV\n",
      "Pd4I8 \t\t BandGap = \t1.1512 eV\t Formation Eneergy = \t133.0 meV\n",
      "MoO3 \t\t BandGap = \t1.1381 eV\t Formation Eneergy = \t136.0 meV\n"
     ]
    }
   ],
   "source": [
    "qe = QueryEngine() \n",
    "\n",
    "a = qe.get_calculation(band_gap_range=[1,1.5], formation_energy_range=[124,150])\n",
    "\n",
    "for e in a:\n",
    "    if len(str(e).split('@')[0])< 8:\n",
    "        print(str(e).split('@')[0] + '\\t\\t BandGap = \\t' + str(round(e.band_gap,4)) + \n",
    "              ' eV\\t Formation Eneergy = \\t' + str(e.formation_energy)+ ' meV')\n",
    "    else:\n",
    "        print(str(e).split('@')[0] + '\\t BandGap = \\t' + str(round(e.band_gap,4)) +\n",
    "              ' eV\\t Formation Eneergy = \\t' + str(e.formation_energy) + ' meV')"
   ]
  },
  {
   "cell_type": "markdown",
   "metadata": {},
   "source": [
    "# Write Files"
   ]
  },
  {
   "cell_type": "code",
   "execution_count": 3,
   "metadata": {},
   "outputs": [
    {
     "ename": "FileExistsError",
     "evalue": "[Errno 17] File exists: 'example'",
     "output_type": "error",
     "traceback": [
      "\u001b[0;31m---------------------------------------------------------------------------\u001b[0m",
      "\u001b[0;31mFileExistsError\u001b[0m                           Traceback (most recent call last)",
      "\u001b[0;32m<ipython-input-3-e9bb2b69a360>\u001b[0m in \u001b[0;36m<module>\u001b[0;34m\u001b[0m\n\u001b[1;32m      1\u001b[0m \u001b[0;32mimport\u001b[0m \u001b[0mos\u001b[0m\u001b[0;34m\u001b[0m\u001b[0;34m\u001b[0m\u001b[0m\n\u001b[0;32m----> 2\u001b[0;31m \u001b[0mos\u001b[0m\u001b[0;34m.\u001b[0m\u001b[0mmkdir\u001b[0m\u001b[0;34m(\u001b[0m\u001b[0;34m'example'\u001b[0m\u001b[0;34m)\u001b[0m\u001b[0;34m\u001b[0m\u001b[0;34m\u001b[0m\u001b[0m\n\u001b[0m\u001b[1;32m      3\u001b[0m \u001b[0mget_ipython\u001b[0m\u001b[0;34m(\u001b[0m\u001b[0;34m)\u001b[0m\u001b[0;34m.\u001b[0m\u001b[0mrun_line_magic\u001b[0m\u001b[0;34m(\u001b[0m\u001b[0;34m'cd'\u001b[0m\u001b[0;34m,\u001b[0m \u001b[0;34m'example'\u001b[0m\u001b[0;34m)\u001b[0m\u001b[0;34m\u001b[0m\u001b[0;34m\u001b[0m\u001b[0m\n\u001b[1;32m      4\u001b[0m \u001b[0;32mfor\u001b[0m \u001b[0me\u001b[0m \u001b[0;32min\u001b[0m \u001b[0ma\u001b[0m\u001b[0;34m:\u001b[0m\u001b[0;34m\u001b[0m\u001b[0;34m\u001b[0m\u001b[0m\n\u001b[1;32m      5\u001b[0m     \u001b[0mos\u001b[0m\u001b[0;34m.\u001b[0m\u001b[0mmkdir\u001b[0m\u001b[0;34m(\u001b[0m\u001b[0me\u001b[0m\u001b[0;34m.\u001b[0m\u001b[0mentry\u001b[0m\u001b[0;34m.\u001b[0m\u001b[0mname\u001b[0m\u001b[0;34m)\u001b[0m\u001b[0;34m\u001b[0m\u001b[0;34m\u001b[0m\u001b[0m\n",
      "\u001b[0;31mFileExistsError\u001b[0m: [Errno 17] File exists: 'example'"
     ]
    }
   ],
   "source": [
    "import os \n",
    "os.mkdir('example')\n",
    "%cd example\n",
    "for e in a:\n",
    "    os.mkdir(e.entry.name)\n",
    "    os.chdir(e.entry.name)\n",
    "    e.write()\n",
    "    os.chdir('..')\n",
    "%ls\n",
    "%cd ..\n",
    "   \n"
   ]
  },
  {
   "cell_type": "code",
   "execution_count": null,
   "metadata": {},
   "outputs": [],
   "source": [
    "os.rmdir('example')\n"
   ]
  },
  {
   "cell_type": "markdown",
   "metadata": {},
   "source": [
    "# Machine Learning Integration"
   ]
  },
  {
   "cell_type": "code",
   "execution_count": null,
   "metadata": {},
   "outputs": [],
   "source": [
    "c = a.last()\n",
    "c.get_soap()"
   ]
  },
  {
   "cell_type": "code",
   "execution_count": null,
   "metadata": {},
   "outputs": [],
   "source": []
  },
  {
   "cell_type": "code",
   "execution_count": null,
   "metadata": {},
   "outputs": [],
   "source": [
    "%cd /home/jason/dev/materialsweb\n",
    "%rm -rf formation_energy"
   ]
  },
  {
   "cell_type": "code",
   "execution_count": null,
   "metadata": {},
   "outputs": [],
   "source": [
    "c.prep_ml_formation_energy()\n",
    "%ls"
   ]
  },
  {
   "cell_type": "code",
   "execution_count": null,
   "metadata": {},
   "outputs": [],
   "source": [
    "c.entry.structure.lat_param_string()\n"
   ]
  },
  {
   "cell_type": "code",
   "execution_count": 4,
   "metadata": {},
   "outputs": [
    {
     "name": "stdout",
     "output_type": "stream",
     "text": [
      "0\n",
      "1\n",
      "2\n",
      "3\n",
      "4\n",
      "5\n",
      "6\n",
      "7\n",
      "8\n",
      "9\n",
      "10\n",
      "11\n",
      "12\n",
      "13\n",
      "14\n",
      "15\n",
      "16\n",
      "17\n",
      "18\n",
      "19\n",
      "20\n",
      "21\n",
      "22\n",
      "[-0.2826777850000002, -0.35400042333333354, -0.28274510500000005, -0.2933791050000001, -0.4606972275000003, -0.10257885499999997, 0.06771613999999992, 0.019554669999999774, -0.4637142999999999, -0.45802311750000024, 0.001414409999999977, 0.0, 0.0014720200000000183, 0.017789549999999932, 0.12278132750000026, 0.12740174000000026, 0.046555940000000184, 0.0, 2.4029999999915692e-05, 0.04365088666666672, 0.05410132000000001, 0.04913071499999999, 0.04706251750000012]\n"
     ]
    }
   ],
   "source": [
    "from pymatgen import MPRester\n",
    "from pymatgen.analysis.phase_diagram import PhaseDiagram, PDPlotter\n",
    "import os\n",
    "from pymatgen.io.vasp import inputs\n",
    "#os.mkdir('mldir')\n",
    "#os.chdir('mldir')\n",
    "a = MPRester('7JGUQgNZyOTTp8Tc')\n",
    "entries = a.query('Cd-Te',properties = ['structure','formation_energy_per_atom'])\n",
    "#entries = a.query('Cd-Te',properties = ['formation_energy_per_atom'])\n",
    "formation_e_actual=[]\n",
    "i= 0 \n",
    "for b in entries:\n",
    "    b['structure'].to(fmt='poscar',filename=str(i)+'.poscar')\n",
    "    formation_e_actual.append(b['formation_energy_per_atom'])\n",
    "    i = i +1 \n",
    "entries = a.query('Cd',properties = ['structure','formation_energy_per_atom'])\n",
    "for b in entries:\n",
    "    b['structure'].to(fmt='poscar',filename=str(i)+'.poscar')\n",
    "    formation_e_actual.append(b['formation_energy_per_atom'])\n",
    "    i = i +1 \n",
    "entries = a.query('Te',properties = ['structure','formation_energy_per_atom'])\n",
    "for b in entries:\n",
    "    b['structure'].to(fmt='poscar',filename=str(i)+'.poscar')\n",
    "    formation_e_actual.append(b['formation_energy_per_atom'])\n",
    "    i = i +1 \n"
   ]
  },
  {
   "cell_type": "code",
   "execution_count": null,
   "metadata": {},
   "outputs": [],
   "source": [
    "%cd ..\n",
    "%pwd\n",
    "%ls"
   ]
  },
  {
   "cell_type": "code",
   "execution_count": 5,
   "metadata": {},
   "outputs": [
    {
     "name": "stdout",
     "output_type": "stream",
     "text": [
      "http://10.5.46.39/static/models/Cd-Te.sav\n",
      "././0.poscar\n",
      "././1.poscar\n",
      "././2.poscar\n",
      "././3.poscar\n",
      "././4.poscar\n",
      "././5.poscar\n",
      "././6.poscar\n",
      "././7.poscar\n",
      "././8.poscar\n",
      "././9.poscar\n",
      "././10.poscar\n",
      "././11.poscar\n",
      "././12.poscar\n",
      "././13.poscar\n",
      "././14.poscar\n",
      "././15.poscar\n",
      "././16.poscar\n",
      "././17.poscar\n",
      "././18.poscar\n",
      "././19.poscar\n",
      "././20.poscar\n",
      "././21.poscar\n",
      "././22.poscar\n",
      "[-0.2345306884765801, -0.23756596240215133, -0.2517413380170951, -0.24755761868019177, -0.21340579726371633, -0.174576704233126, -0.1015552396174737, 0.004477855414455778, -0.21861336949718124, -0.21254714925762286, -0.03439547798190107, -0.09146698577491291, -0.041978300920243905, -0.05403810819080779, 0.12163482960658245, 0.27791645581802105, 0.1489733938814622, 0.15136123233625237, 0.15027820143149928, 0.142179602194758, 0.1361387019914332, 0.15660528984760114, 0.14949782832236092]\n"
     ]
    }
   ],
   "source": [
    "formation_e_predict=[]\n",
    "model=qe.get_KRR('Cd-Te')\n",
    "for i in range(0,23):\n",
    "    #print(i)\n",
    "    formation_e_predict.append(model.predict(qe.get_soap('./'+str(i)+'.poscar'))[0])\n",
    "print(formation_e_predict)\n"
   ]
  },
  {
   "cell_type": "code",
   "execution_count": 6,
   "metadata": {},
   "outputs": [
    {
     "data": {
      "image/png": "[encoded data removed]",
      "text/plain": [
       "<Figure size 432x288 with 1 Axes>"
      ]
     },
     "metadata": {
      "needs_background": "light"
     },
     "output_type": "display_data"
    }
   ],
   "source": [
    "%matplotlib inline\n",
    "import matplotlib.pyplot as plt\n",
    "\n",
    "plt.scatter(formation_e_actual, formation_e_predict, alpha=0.2)\n",
    "plt.plot([-0.4, 0.4], [-0.4, 0.4], 'k--')\n",
    "plt.axis('equal')\n",
    "plt.show()"
   ]
  },
  {
   "cell_type": "code",
   "execution_count": 7,
   "metadata": {},
   "outputs": [
    {
     "name": "stdout",
     "output_type": "stream",
     "text": [
      "0.12654181694674277\n"
     ]
    }
   ],
   "source": [
    "import numpy as np\n",
    "print(np.sqrt(np.mean(np.subtract(formation_e_predict, formation_e_actual)**2)))"
   ]
  },
  {
   "cell_type": "code",
   "execution_count": 10,
   "metadata": {},
   "outputs": [
    {
     "name": "stdout",
     "output_type": "stream",
     "text": [
      "-0.2826777850000002   -0.2345306884765801\n",
      "-0.35400042333333354   -0.23756596240215133\n",
      "-0.28274510500000005   -0.2517413380170951\n",
      "-0.2933791050000001   -0.24755761868019177\n",
      "-0.4606972275000003   -0.21340579726371633\n",
      "-0.10257885499999997   -0.174576704233126\n",
      "0.06771613999999992   -0.1015552396174737\n",
      "0.019554669999999774   0.004477855414455778\n",
      "-0.4637142999999999   -0.21861336949718124\n",
      "-0.45802311750000024   -0.21254714925762286\n",
      "0.001414409999999977   -0.03439547798190107\n",
      "0.0   -0.09146698577491291\n",
      "0.0014720200000000183   -0.041978300920243905\n",
      "0.017789549999999932   -0.05403810819080779\n",
      "0.12278132750000026   0.12163482960658245\n",
      "0.12740174000000026   0.27791645581802105\n",
      "0.046555940000000184   0.1489733938814622\n",
      "0.0   0.15136123233625237\n",
      "2.4029999999915692e-05   0.15027820143149928\n",
      "0.04365088666666672   0.142179602194758\n",
      "0.05410132000000001   0.1361387019914332\n",
      "0.04913071499999999   0.15660528984760114\n",
      "0.04706251750000012   0.14949782832236092\n"
     ]
    }
   ],
   "source": [
    "for ab, cd in zip(formation_e_actual,formation_e_predict):\n",
    "    print(str(ab)+'   '+ str(cd))"
   ]
  },
  {
   "cell_type": "code",
   "execution_count": null,
   "metadata": {},
   "outputs": [],
   "source": []
  }
 ],
 "metadata": {
  "kernelspec": {
   "display_name": "Python 3",
   "language": "python",
   "name": "python3"
  },
  "language_info": {
   "codemirror_mode": {
    "name": "ipython",
    "version": 3
   },
   "file_extension": ".py",
   "mimetype": "text/x-python",
   "name": "python",
   "nbconvert_exporter": "python",
   "pygments_lexer": "ipython3",
   "version": "3.6.9"
  }
 },
 "nbformat": 4,
 "nbformat_minor": 2
}
