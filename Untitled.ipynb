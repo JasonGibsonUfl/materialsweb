{
 "cells": [
  {
   "cell_type": "code",
   "execution_count": 6,
   "metadata": {},
   "outputs": [],
   "source": [
    "from pymatgen.core.structure import Structure\n",
    "\n",
    "S=Structure.from_file(filename='./POSCAR')\n",
    "S.make_supercell([6,6,1])\n"
   ]
  },
  {
   "cell_type": "code",
   "execution_count": 2,
   "metadata": {},
   "outputs": [
    {
     "data": {
      "text/plain": [
       "576"
      ]
     },
     "execution_count": 2,
     "metadata": {},
     "output_type": "execute_result"
    }
   ],
   "source": [
    "S.num_sites"
   ]
  },
  {
   "cell_type": "code",
   "execution_count": null,
   "metadata": {},
   "outputs": [],
   "source": [
    "ss=S.make_supercell([6,6,1])\n",
    "ss"
   ]
  },
  {
   "cell_type": "code",
   "execution_count": 24,
   "metadata": {},
   "outputs": [],
   "source": [
    "structure = S\n",
    "xyz_structure = [str(structure.num_sites),\n",
    "                     structure.composition.reduced_formula]\n",
    "for site in structure.sites:\n",
    "    element = site._species.reduced_formula.replace('2', '')\n",
    "    atom = '{} {} {} {}'.format(element, str(site.x), str(site.y),\n",
    "                                    str(site.z))\n",
    "    xyz_structure.append(atom)\n",
    "string = str(xyz_structure)\n",
    "string = string.replace('[','')\n",
    "string = string.replace(']','')\n",
    "string = string.replace(', ','\\n')\n",
    "string = string.replace(\"'\",\"\")\n"
   ]
  },
  {
   "cell_type": "code",
   "execution_count": null,
   "metadata": {},
   "outputs": [],
   "source": []
  }
 ],
 "metadata": {
  "kernelspec": {
   "display_name": "Python 3",
   "language": "python",
   "name": "python3"
  },
  "language_info": {
   "codemirror_mode": {
    "name": "ipython",
    "version": 3
   },
   "file_extension": ".py",
   "mimetype": "text/x-python",
   "name": "python",
   "nbconvert_exporter": "python",
   "pygments_lexer": "ipython3",
   "version": "3.7.4"
  }
 },
 "nbformat": 4,
 "nbformat_minor": 4
}
